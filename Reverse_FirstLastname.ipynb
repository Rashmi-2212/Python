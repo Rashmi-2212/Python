{
 "cells": [
  {
   "cell_type": "code",
   "execution_count": 1,
   "metadata": {},
   "outputs": [
    {
     "name": "stdout",
     "output_type": "stream",
     "text": [
      "Enter User's Firstname : Rashmi\n",
      "Enter User's Lastname : Gupta\n",
      "The reverse os first & last name is : imhsaR atpuG\n"
     ]
    }
   ],
   "source": [
    "fname=input(\"Enter User's Firstname : \")\n",
    "fname=fname[::-1]\n",
    "lname=input(\"Enter User's Lastname : \")\n",
    "lname=lname[::-1]\n",
    "print(\"The reverse os first & last name is : \"+fname+\" \"+lname)\n"
   ]
  },
  {
   "cell_type": "code",
   "execution_count": null,
   "metadata": {},
   "outputs": [],
   "source": []
  }
 ],
 "metadata": {
  "kernelspec": {
   "display_name": "Python 3",
   "language": "python",
   "name": "python3"
  },
  "language_info": {
   "codemirror_mode": {
    "name": "ipython",
    "version": 3
   },
   "file_extension": ".py",
   "mimetype": "text/x-python",
   "name": "python",
   "nbconvert_exporter": "python",
   "pygments_lexer": "ipython3",
   "version": "3.8.2"
  }
 },
 "nbformat": 4,
 "nbformat_minor": 4
}
